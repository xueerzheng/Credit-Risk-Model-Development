{
 "cells": [
  {
   "cell_type": "markdown",
   "metadata": {},
   "source": [
    "# Abstract"
   ]
  },
  {
   "cell_type": "markdown",
   "metadata": {},
   "source": [
    "Nowadays, as loans have become part of the main business of commercial banks, predicting whether a customer will default on their loans has become an important issue for commercial banks. This report based on the dataset called \"All Lending Club Loan Data” on Kaggle, aiming to build an unsupervised learning model to predict a customer’s default risk. After using SMOTE to oversample this unbalanced classification dataset, I compared the prediction capabilities of the three algorithms (logistic regression, classification tree, and random forest). Finally,  the random forest has shown the best performance in the prediction. "
   ]
  },
  {
   "cell_type": "markdown",
   "metadata": {},
   "source": [
    "# Data"
   ]
  },
  {
   "cell_type": "markdown",
   "metadata": {},
   "source": [
    "The dataset callded \"All Lending Club Loan Data Version 6, 2018” comes from Kaggle. The classification purpose is to predict whether customers will default on their loans or not. "
   ]
  },
  {
   "cell_type": "code",
   "execution_count": 99,
   "metadata": {},
   "outputs": [],
   "source": [
    "import pandas as pd\n",
    "import matplotlib.pyplot as plt\n",
    "import numpy as np\n",
    "from datetime import datetime\n",
    "import csv\n",
    "\n",
    "from sklearn.model_selection import train_test_split\n",
    "from sklearn.linear_model import LogisticRegression\n",
    "from sklearn import metrics\n",
    "import seaborn as sn\n",
    "import matplotlib.pyplot as plt\n",
    "from sklearn.model_selection import RepeatedKFold\n",
    "\n",
    "from sklearn.datasets import make_classification\n",
    "from sklearn.model_selection import cross_val_score\n",
    "from sklearn.model_selection import RepeatedStratifiedKFold\n",
    "from sklearn.feature_selection import RFE\n",
    "from sklearn.tree import DecisionTreeClassifier\n",
    "from sklearn.pipeline import Pipeline\n",
    "\n",
    "import statsmodels.api as sm\n"
   ]
  },
  {
   "cell_type": "code",
   "execution_count": 73,
   "metadata": {},
   "outputs": [
    {
     "data": {
      "text/html": [
       "<div>\n",
       "<style scoped>\n",
       "    .dataframe tbody tr th:only-of-type {\n",
       "        vertical-align: middle;\n",
       "    }\n",
       "\n",
       "    .dataframe tbody tr th {\n",
       "        vertical-align: top;\n",
       "    }\n",
       "\n",
       "    .dataframe thead th {\n",
       "        text-align: right;\n",
       "    }\n",
       "</style>\n",
       "<table border=\"1\" class=\"dataframe\">\n",
       "  <thead>\n",
       "    <tr style=\"text-align: right;\">\n",
       "      <th></th>\n",
       "      <th>loan_amnt</th>\n",
       "      <th>term</th>\n",
       "      <th>installment</th>\n",
       "      <th>emp_length</th>\n",
       "      <th>home_ownership</th>\n",
       "      <th>verification_status</th>\n",
       "      <th>issue_d</th>\n",
       "      <th>purpose</th>\n",
       "      <th>dti</th>\n",
       "      <th>earliest_cr_line</th>\n",
       "      <th>...</th>\n",
       "      <th>pub_rec</th>\n",
       "      <th>revol_util</th>\n",
       "      <th>total_acc</th>\n",
       "      <th>application_type</th>\n",
       "      <th>mort_acc</th>\n",
       "      <th>pub_rec_bankruptcies</th>\n",
       "      <th>log_annual_inc</th>\n",
       "      <th>fico_score</th>\n",
       "      <th>log_revol_bal</th>\n",
       "      <th>charged_off</th>\n",
       "    </tr>\n",
       "  </thead>\n",
       "  <tbody>\n",
       "    <tr>\n",
       "      <th>0</th>\n",
       "      <td>5675</td>\n",
       "      <td>36</td>\n",
       "      <td>189.56</td>\n",
       "      <td>2.0</td>\n",
       "      <td>RENT</td>\n",
       "      <td>Source Verified</td>\n",
       "      <td>14-Dec</td>\n",
       "      <td>car</td>\n",
       "      <td>15.55</td>\n",
       "      <td>1992</td>\n",
       "      <td>...</td>\n",
       "      <td>0</td>\n",
       "      <td>15.0</td>\n",
       "      <td>15</td>\n",
       "      <td>Individual</td>\n",
       "      <td>0.0</td>\n",
       "      <td>0.0</td>\n",
       "      <td>4.698979</td>\n",
       "      <td>697.0</td>\n",
       "      <td>3.464936</td>\n",
       "      <td>0</td>\n",
       "    </tr>\n",
       "    <tr>\n",
       "      <th>1</th>\n",
       "      <td>7000</td>\n",
       "      <td>36</td>\n",
       "      <td>242.63</td>\n",
       "      <td>1.0</td>\n",
       "      <td>RENT</td>\n",
       "      <td>Source Verified</td>\n",
       "      <td>14-Dec</td>\n",
       "      <td>car</td>\n",
       "      <td>6.78</td>\n",
       "      <td>2002</td>\n",
       "      <td>...</td>\n",
       "      <td>0</td>\n",
       "      <td>69.2</td>\n",
       "      <td>5</td>\n",
       "      <td>Individual</td>\n",
       "      <td>0.0</td>\n",
       "      <td>0.0</td>\n",
       "      <td>4.301052</td>\n",
       "      <td>717.0</td>\n",
       "      <td>3.431364</td>\n",
       "      <td>0</td>\n",
       "    </tr>\n",
       "    <tr>\n",
       "      <th>2</th>\n",
       "      <td>3500</td>\n",
       "      <td>36</td>\n",
       "      <td>116.24</td>\n",
       "      <td>10.0</td>\n",
       "      <td>MORTGAGE</td>\n",
       "      <td>Not Verified</td>\n",
       "      <td>14-Dec</td>\n",
       "      <td>car</td>\n",
       "      <td>10.65</td>\n",
       "      <td>1997</td>\n",
       "      <td>...</td>\n",
       "      <td>0</td>\n",
       "      <td>12.6</td>\n",
       "      <td>35</td>\n",
       "      <td>Individual</td>\n",
       "      <td>2.0</td>\n",
       "      <td>0.0</td>\n",
       "      <td>4.681250</td>\n",
       "      <td>742.0</td>\n",
       "      <td>3.765520</td>\n",
       "      <td>0</td>\n",
       "    </tr>\n",
       "    <tr>\n",
       "      <th>3</th>\n",
       "      <td>10000</td>\n",
       "      <td>36</td>\n",
       "      <td>316.47</td>\n",
       "      <td>10.0</td>\n",
       "      <td>MORTGAGE</td>\n",
       "      <td>Not Verified</td>\n",
       "      <td>14-Dec</td>\n",
       "      <td>car</td>\n",
       "      <td>21.74</td>\n",
       "      <td>1996</td>\n",
       "      <td>...</td>\n",
       "      <td>0</td>\n",
       "      <td>23.7</td>\n",
       "      <td>22</td>\n",
       "      <td>Individual</td>\n",
       "      <td>4.0</td>\n",
       "      <td>0.0</td>\n",
       "      <td>4.875067</td>\n",
       "      <td>707.0</td>\n",
       "      <td>3.424555</td>\n",
       "      <td>0</td>\n",
       "    </tr>\n",
       "    <tr>\n",
       "      <th>4</th>\n",
       "      <td>1500</td>\n",
       "      <td>36</td>\n",
       "      <td>46.31</td>\n",
       "      <td>2.0</td>\n",
       "      <td>OWN</td>\n",
       "      <td>Not Verified</td>\n",
       "      <td>14-Dec</td>\n",
       "      <td>car</td>\n",
       "      <td>12.17</td>\n",
       "      <td>1997</td>\n",
       "      <td>...</td>\n",
       "      <td>0</td>\n",
       "      <td>46.5</td>\n",
       "      <td>13</td>\n",
       "      <td>Individual</td>\n",
       "      <td>2.0</td>\n",
       "      <td>0.0</td>\n",
       "      <td>4.812920</td>\n",
       "      <td>712.0</td>\n",
       "      <td>4.448211</td>\n",
       "      <td>0</td>\n",
       "    </tr>\n",
       "  </tbody>\n",
       "</table>\n",
       "<p>5 rows × 21 columns</p>\n",
       "</div>"
      ],
      "text/plain": [
       "   loan_amnt  term  installment  emp_length home_ownership  \\\n",
       "0       5675    36       189.56         2.0           RENT   \n",
       "1       7000    36       242.63         1.0           RENT   \n",
       "2       3500    36       116.24        10.0       MORTGAGE   \n",
       "3      10000    36       316.47        10.0       MORTGAGE   \n",
       "4       1500    36        46.31         2.0            OWN   \n",
       "\n",
       "  verification_status issue_d purpose    dti  earliest_cr_line  ...  pub_rec  \\\n",
       "0     Source Verified  14-Dec     car  15.55              1992  ...        0   \n",
       "1     Source Verified  14-Dec     car   6.78              2002  ...        0   \n",
       "2        Not Verified  14-Dec     car  10.65              1997  ...        0   \n",
       "3        Not Verified  14-Dec     car  21.74              1996  ...        0   \n",
       "4        Not Verified  14-Dec     car  12.17              1997  ...        0   \n",
       "\n",
       "   revol_util  total_acc  application_type mort_acc  pub_rec_bankruptcies  \\\n",
       "0        15.0         15        Individual      0.0                   0.0   \n",
       "1        69.2          5        Individual      0.0                   0.0   \n",
       "2        12.6         35        Individual      2.0                   0.0   \n",
       "3        23.7         22        Individual      4.0                   0.0   \n",
       "4        46.5         13        Individual      2.0                   0.0   \n",
       "\n",
       "   log_annual_inc  fico_score  log_revol_bal  charged_off  \n",
       "0        4.698979       697.0       3.464936            0  \n",
       "1        4.301052       717.0       3.431364            0  \n",
       "2        4.681250       742.0       3.765520            0  \n",
       "3        4.875067       707.0       3.424555            0  \n",
       "4        4.812920       712.0       4.448211            0  \n",
       "\n",
       "[5 rows x 21 columns]"
      ]
     },
     "execution_count": 73,
     "metadata": {},
     "output_type": "execute_result"
    }
   ],
   "source": [
    "cw=pd.read_csv('~/Desktop/comp50/dataCOMP0050Coursework1.csv', header = 0)\n",
    "cw=cw.dropna()\n",
    "cw.head()"
   ]
  },
  {
   "cell_type": "code",
   "execution_count": 74,
   "metadata": {},
   "outputs": [
    {
     "name": "stdout",
     "output_type": "stream",
     "text": [
      "(6802, 21)\n",
      "Index(['loan_amnt', 'term', 'installment', 'emp_length', 'home_ownership',\n",
      "       'verification_status', 'issue_d', 'purpose', 'dti', 'earliest_cr_line',\n",
      "       'open_acc', 'pub_rec', 'revol_util', 'total_acc', 'application_type',\n",
      "       'mort_acc', 'pub_rec_bankruptcies', 'log_annual_inc', 'fico_score',\n",
      "       'log_revol_bal', 'charged_off'],\n",
      "      dtype='object')\n"
     ]
    }
   ],
   "source": [
    "cw=pd.read_csv('~/Desktop/comp50/dataCOMP0050Coursework1.csv', header = 0)\n",
    "cw=cw.dropna()\n",
    "print(cw.shape)\n",
    "print((cw.columns))"
   ]
  },
  {
   "cell_type": "markdown",
   "metadata": {},
   "source": [
    "The dataset provides 6802 All Lending Club customers' records, including 21 fields:'loan_amnt', 'term', 'installment', 'emp_length', 'home_ownership','verification_status', 'issue_d', 'purpose', 'dti', 'earliest_cr_line','open_acc', 'pub_rec', 'revol_util', 'total_acc', 'application_type','mort_acc', 'pub_rec_bankruptcies', 'log_annual_inc', 'fico_score', 'log_revol_bal', and 'charged_off'. "
   ]
  },
  {
   "cell_type": "markdown",
   "metadata": {},
   "source": [
    "## Target Variable y"
   ]
  },
  {
   "cell_type": "markdown",
   "metadata": {},
   "source": [
    "The target variable is \"charged_off\" which means whether a debtor repay the loan or not--its value is 0 if the debtor repays, 1 otherwise. "
   ]
  },
  {
   "cell_type": "markdown",
   "metadata": {},
   "source": [
    "## Independent Variables (features)"
   ]
  },
  {
   "cell_type": "markdown",
   "metadata": {},
   "source": [
    "1.'loan_amnt': numerical variable, the amount of money that a debtor lent\n",
    "\n",
    "2.'term': numerical variable, the length of time for a loan to be completely paid off \n",
    "\n",
    "3.'installment':numerical variable, the amount the debtor needs to pay regularly  \n",
    "\n",
    "4.'emp_length':numerical variable, employment length of the debtor\n",
    "\n",
    "5.'home_ownership':categorical variable(\"RENT\", \"OWN, \"MORTGAGE\")\n",
    "\n",
    "6.'verification_status':categorical variable(\"Source Verified\",\"Verified\", \"Not Verified\"), whether the income or income source is verified by the All Lending Club\n",
    "\n",
    "7.'issue_d':categorical variable, issue date of the loan \n",
    "\n",
    "8.'purpose':categorical variable, the purpose of loan  \n",
    "\n",
    "9.'dti':numerical variable, debt to income ratio \n",
    "\n",
    "10.'earliest_cr_line':numerical variable, the earliest credit line \n",
    "\n",
    "11.'open_acc':numerical variable, number of open credit lines on the debtor’s record\n",
    "\n",
    "12.'pub_rec':numerical variable, the number of derogatory public records of a debtor\n",
    "\n",
    "13.'revol_util': numerical variable, revolving utilization ratio \n",
    "\n",
    "14.'total_acc':numerical variable,total number of historical credit lines on the debtor’s record\n",
    "\n",
    "15.'application_type':categorical variable('Individual', 'Joint App')\n",
    "\n",
    "16.'mort_acc':numerical variable,total number of credit lines\n",
    "\n",
    "17.'pub_rec_bankruptcies':numerical variable, number of bankruptcies in debtor's public record \n",
    "\n",
    "18.'log_annual_inc':numerical variable, logarithm of the debtor’s annual income\n",
    "\n",
    "19.'fico_score':numerical variable, Fair Isaac Corporation (FICO) score of a debtor\n",
    "\n",
    "20.'log_revol_bal':numerical variable, logarithm of total credit revolving balance"
   ]
  },
  {
   "cell_type": "markdown",
   "metadata": {},
   "source": [
    "As the variable 'verification_status' has three categories, I calculated the category means of target variable \"charge_off\". As \"Source Verified\"'s category mean is close to \"Verified\"'s, I grouped these two categories into \"Verified\". "
   ]
  },
  {
   "cell_type": "code",
   "execution_count": 75,
   "metadata": {},
   "outputs": [
    {
     "data": {
      "text/html": [
       "<div>\n",
       "<style scoped>\n",
       "    .dataframe tbody tr th:only-of-type {\n",
       "        vertical-align: middle;\n",
       "    }\n",
       "\n",
       "    .dataframe tbody tr th {\n",
       "        vertical-align: top;\n",
       "    }\n",
       "\n",
       "    .dataframe thead th {\n",
       "        text-align: right;\n",
       "    }\n",
       "</style>\n",
       "<table border=\"1\" class=\"dataframe\">\n",
       "  <thead>\n",
       "    <tr style=\"text-align: right;\">\n",
       "      <th></th>\n",
       "      <th>loan_amnt</th>\n",
       "      <th>term</th>\n",
       "      <th>installment</th>\n",
       "      <th>emp_length</th>\n",
       "      <th>dti</th>\n",
       "      <th>earliest_cr_line</th>\n",
       "      <th>open_acc</th>\n",
       "      <th>pub_rec</th>\n",
       "      <th>revol_util</th>\n",
       "      <th>total_acc</th>\n",
       "      <th>mort_acc</th>\n",
       "      <th>pub_rec_bankruptcies</th>\n",
       "      <th>log_annual_inc</th>\n",
       "      <th>fico_score</th>\n",
       "      <th>log_revol_bal</th>\n",
       "      <th>charged_off</th>\n",
       "    </tr>\n",
       "    <tr>\n",
       "      <th>verification_status</th>\n",
       "      <th></th>\n",
       "      <th></th>\n",
       "      <th></th>\n",
       "      <th></th>\n",
       "      <th></th>\n",
       "      <th></th>\n",
       "      <th></th>\n",
       "      <th></th>\n",
       "      <th></th>\n",
       "      <th></th>\n",
       "      <th></th>\n",
       "      <th></th>\n",
       "      <th></th>\n",
       "      <th></th>\n",
       "      <th></th>\n",
       "      <th></th>\n",
       "    </tr>\n",
       "  </thead>\n",
       "  <tbody>\n",
       "    <tr>\n",
       "      <th>Not Verified</th>\n",
       "      <td>7843.069389</td>\n",
       "      <td>37.776892</td>\n",
       "      <td>245.772357</td>\n",
       "      <td>5.374502</td>\n",
       "      <td>14.427898</td>\n",
       "      <td>1999.602258</td>\n",
       "      <td>10.047145</td>\n",
       "      <td>0.151394</td>\n",
       "      <td>39.741036</td>\n",
       "      <td>22.172975</td>\n",
       "      <td>1.558765</td>\n",
       "      <td>0.093958</td>\n",
       "      <td>4.762097</td>\n",
       "      <td>712.745352</td>\n",
       "      <td>3.693593</td>\n",
       "      <td>0.116534</td>\n",
       "    </tr>\n",
       "    <tr>\n",
       "      <th>Source Verified</th>\n",
       "      <td>9783.622165</td>\n",
       "      <td>40.395379</td>\n",
       "      <td>301.629722</td>\n",
       "      <td>5.222080</td>\n",
       "      <td>14.984681</td>\n",
       "      <td>2000.288404</td>\n",
       "      <td>10.278562</td>\n",
       "      <td>0.296534</td>\n",
       "      <td>42.486607</td>\n",
       "      <td>22.946941</td>\n",
       "      <td>1.478391</td>\n",
       "      <td>0.171160</td>\n",
       "      <td>4.792294</td>\n",
       "      <td>700.295036</td>\n",
       "      <td>3.707600</td>\n",
       "      <td>0.181429</td>\n",
       "    </tr>\n",
       "    <tr>\n",
       "      <th>Verified</th>\n",
       "      <td>10522.522368</td>\n",
       "      <td>41.417756</td>\n",
       "      <td>324.781562</td>\n",
       "      <td>5.475568</td>\n",
       "      <td>15.832368</td>\n",
       "      <td>1999.656573</td>\n",
       "      <td>10.334480</td>\n",
       "      <td>0.265657</td>\n",
       "      <td>44.145286</td>\n",
       "      <td>23.002065</td>\n",
       "      <td>1.577426</td>\n",
       "      <td>0.177564</td>\n",
       "      <td>4.768835</td>\n",
       "      <td>701.363386</td>\n",
       "      <td>3.710129</td>\n",
       "      <td>0.184446</td>\n",
       "    </tr>\n",
       "  </tbody>\n",
       "</table>\n",
       "</div>"
      ],
      "text/plain": [
       "                        loan_amnt       term  installment  emp_length  \\\n",
       "verification_status                                                     \n",
       "Not Verified          7843.069389  37.776892   245.772357    5.374502   \n",
       "Source Verified       9783.622165  40.395379   301.629722    5.222080   \n",
       "Verified             10522.522368  41.417756   324.781562    5.475568   \n",
       "\n",
       "                           dti  earliest_cr_line   open_acc   pub_rec  \\\n",
       "verification_status                                                     \n",
       "Not Verified         14.427898       1999.602258  10.047145  0.151394   \n",
       "Source Verified      14.984681       2000.288404  10.278562  0.296534   \n",
       "Verified             15.832368       1999.656573  10.334480  0.265657   \n",
       "\n",
       "                     revol_util  total_acc  mort_acc  pub_rec_bankruptcies  \\\n",
       "verification_status                                                          \n",
       "Not Verified          39.741036  22.172975  1.558765              0.093958   \n",
       "Source Verified       42.486607  22.946941  1.478391              0.171160   \n",
       "Verified              44.145286  23.002065  1.577426              0.177564   \n",
       "\n",
       "                     log_annual_inc  fico_score  log_revol_bal  charged_off  \n",
       "verification_status                                                          \n",
       "Not Verified               4.762097  712.745352       3.693593     0.116534  \n",
       "Source Verified            4.792294  700.295036       3.707600     0.181429  \n",
       "Verified                   4.768835  701.363386       3.710129     0.184446  "
      ]
     },
     "execution_count": 75,
     "metadata": {},
     "output_type": "execute_result"
    }
   ],
   "source": [
    "cw.groupby('verification_status').mean()\n"
   ]
  },
  {
   "cell_type": "code",
   "execution_count": 76,
   "metadata": {},
   "outputs": [],
   "source": [
    "cw['verification_status']=np.where(cw['verification_status'] =='Source Verified', 'Verified', cw['verification_status'])"
   ]
  },
  {
   "cell_type": "markdown",
   "metadata": {},
   "source": [
    "Because the variable called \"issue_d\" has lots of (67) categories, I dropped this variable from the dataset. Moreover, variable 'purpose' was dropped as the only purpose of loan is \"car.\""
   ]
  },
  {
   "cell_type": "code",
   "execution_count": 77,
   "metadata": {},
   "outputs": [],
   "source": [
    "cw=cw.drop(columns=['purpose'])\n",
    "cw=cw.drop(columns=['issue_d'])"
   ]
  },
  {
   "cell_type": "markdown",
   "metadata": {},
   "source": [
    "### Dummy Variable"
   ]
  },
  {
   "cell_type": "code",
   "execution_count": 78,
   "metadata": {},
   "outputs": [
    {
     "data": {
      "text/html": [
       "<div>\n",
       "<style scoped>\n",
       "    .dataframe tbody tr th:only-of-type {\n",
       "        vertical-align: middle;\n",
       "    }\n",
       "\n",
       "    .dataframe tbody tr th {\n",
       "        vertical-align: top;\n",
       "    }\n",
       "\n",
       "    .dataframe thead th {\n",
       "        text-align: right;\n",
       "    }\n",
       "</style>\n",
       "<table border=\"1\" class=\"dataframe\">\n",
       "  <thead>\n",
       "    <tr style=\"text-align: right;\">\n",
       "      <th></th>\n",
       "      <th>loan_amnt</th>\n",
       "      <th>term</th>\n",
       "      <th>installment</th>\n",
       "      <th>emp_length</th>\n",
       "      <th>dti</th>\n",
       "      <th>earliest_cr_line</th>\n",
       "      <th>open_acc</th>\n",
       "      <th>pub_rec</th>\n",
       "      <th>revol_util</th>\n",
       "      <th>total_acc</th>\n",
       "      <th>...</th>\n",
       "      <th>fico_score</th>\n",
       "      <th>log_revol_bal</th>\n",
       "      <th>charged_off</th>\n",
       "      <th>RENT</th>\n",
       "      <th>MORTGAGE</th>\n",
       "      <th>OWN</th>\n",
       "      <th>Verified</th>\n",
       "      <th>Not Verified</th>\n",
       "      <th>Individual</th>\n",
       "      <th>Joint App</th>\n",
       "    </tr>\n",
       "  </thead>\n",
       "  <tbody>\n",
       "    <tr>\n",
       "      <th>0</th>\n",
       "      <td>5675</td>\n",
       "      <td>36</td>\n",
       "      <td>189.56</td>\n",
       "      <td>2.0</td>\n",
       "      <td>15.55</td>\n",
       "      <td>1992</td>\n",
       "      <td>7</td>\n",
       "      <td>0</td>\n",
       "      <td>15.0</td>\n",
       "      <td>15</td>\n",
       "      <td>...</td>\n",
       "      <td>697.0</td>\n",
       "      <td>3.464936</td>\n",
       "      <td>0</td>\n",
       "      <td>True</td>\n",
       "      <td>False</td>\n",
       "      <td>False</td>\n",
       "      <td>True</td>\n",
       "      <td>False</td>\n",
       "      <td>True</td>\n",
       "      <td>False</td>\n",
       "    </tr>\n",
       "    <tr>\n",
       "      <th>1</th>\n",
       "      <td>7000</td>\n",
       "      <td>36</td>\n",
       "      <td>242.63</td>\n",
       "      <td>1.0</td>\n",
       "      <td>6.78</td>\n",
       "      <td>2002</td>\n",
       "      <td>3</td>\n",
       "      <td>0</td>\n",
       "      <td>69.2</td>\n",
       "      <td>5</td>\n",
       "      <td>...</td>\n",
       "      <td>717.0</td>\n",
       "      <td>3.431364</td>\n",
       "      <td>0</td>\n",
       "      <td>True</td>\n",
       "      <td>False</td>\n",
       "      <td>False</td>\n",
       "      <td>True</td>\n",
       "      <td>False</td>\n",
       "      <td>True</td>\n",
       "      <td>False</td>\n",
       "    </tr>\n",
       "    <tr>\n",
       "      <th>2</th>\n",
       "      <td>3500</td>\n",
       "      <td>36</td>\n",
       "      <td>116.24</td>\n",
       "      <td>10.0</td>\n",
       "      <td>10.65</td>\n",
       "      <td>1997</td>\n",
       "      <td>16</td>\n",
       "      <td>0</td>\n",
       "      <td>12.6</td>\n",
       "      <td>35</td>\n",
       "      <td>...</td>\n",
       "      <td>742.0</td>\n",
       "      <td>3.765520</td>\n",
       "      <td>0</td>\n",
       "      <td>False</td>\n",
       "      <td>True</td>\n",
       "      <td>False</td>\n",
       "      <td>False</td>\n",
       "      <td>True</td>\n",
       "      <td>True</td>\n",
       "      <td>False</td>\n",
       "    </tr>\n",
       "    <tr>\n",
       "      <th>3</th>\n",
       "      <td>10000</td>\n",
       "      <td>36</td>\n",
       "      <td>316.47</td>\n",
       "      <td>10.0</td>\n",
       "      <td>21.74</td>\n",
       "      <td>1996</td>\n",
       "      <td>7</td>\n",
       "      <td>0</td>\n",
       "      <td>23.7</td>\n",
       "      <td>22</td>\n",
       "      <td>...</td>\n",
       "      <td>707.0</td>\n",
       "      <td>3.424555</td>\n",
       "      <td>0</td>\n",
       "      <td>False</td>\n",
       "      <td>True</td>\n",
       "      <td>False</td>\n",
       "      <td>False</td>\n",
       "      <td>True</td>\n",
       "      <td>True</td>\n",
       "      <td>False</td>\n",
       "    </tr>\n",
       "    <tr>\n",
       "      <th>4</th>\n",
       "      <td>1500</td>\n",
       "      <td>36</td>\n",
       "      <td>46.31</td>\n",
       "      <td>2.0</td>\n",
       "      <td>12.17</td>\n",
       "      <td>1997</td>\n",
       "      <td>8</td>\n",
       "      <td>0</td>\n",
       "      <td>46.5</td>\n",
       "      <td>13</td>\n",
       "      <td>...</td>\n",
       "      <td>712.0</td>\n",
       "      <td>4.448211</td>\n",
       "      <td>0</td>\n",
       "      <td>False</td>\n",
       "      <td>False</td>\n",
       "      <td>True</td>\n",
       "      <td>False</td>\n",
       "      <td>True</td>\n",
       "      <td>True</td>\n",
       "      <td>False</td>\n",
       "    </tr>\n",
       "  </tbody>\n",
       "</table>\n",
       "<p>5 rows × 23 columns</p>\n",
       "</div>"
      ],
      "text/plain": [
       "   loan_amnt  term  installment  emp_length    dti  earliest_cr_line  \\\n",
       "0       5675    36       189.56         2.0  15.55              1992   \n",
       "1       7000    36       242.63         1.0   6.78              2002   \n",
       "2       3500    36       116.24        10.0  10.65              1997   \n",
       "3      10000    36       316.47        10.0  21.74              1996   \n",
       "4       1500    36        46.31         2.0  12.17              1997   \n",
       "\n",
       "   open_acc  pub_rec  revol_util  total_acc  ...  fico_score  log_revol_bal  \\\n",
       "0         7        0        15.0         15  ...       697.0       3.464936   \n",
       "1         3        0        69.2          5  ...       717.0       3.431364   \n",
       "2        16        0        12.6         35  ...       742.0       3.765520   \n",
       "3         7        0        23.7         22  ...       707.0       3.424555   \n",
       "4         8        0        46.5         13  ...       712.0       4.448211   \n",
       "\n",
       "   charged_off   RENT  MORTGAGE    OWN  Verified  Not Verified  Individual  \\\n",
       "0            0   True     False  False      True         False        True   \n",
       "1            0   True     False  False      True         False        True   \n",
       "2            0  False      True  False     False          True        True   \n",
       "3            0  False      True  False     False          True        True   \n",
       "4            0  False     False   True     False          True        True   \n",
       "\n",
       "   Joint App  \n",
       "0      False  \n",
       "1      False  \n",
       "2      False  \n",
       "3      False  \n",
       "4      False  \n",
       "\n",
       "[5 rows x 23 columns]"
      ]
     },
     "execution_count": 78,
     "metadata": {},
     "output_type": "execute_result"
    }
   ],
   "source": [
    "for elem in cw['home_ownership'].unique():\n",
    "    cw[str(elem)] = cw['home_ownership'] == elem\n",
    "\n",
    "for elem in cw['verification_status'].unique():\n",
    "    cw[str(elem)] = cw['verification_status'] == elem\n",
    "    \n",
    "for elem in cw['application_type'].unique():\n",
    "    cw[str(elem)] = cw['application_type'] == elem\n",
    "\n",
    "cw=cw.drop(columns=['home_ownership', 'verification_status','application_type'])\n",
    "cw.columns.values.tolist()\n",
    "final_var=cw.columns.values.tolist()\n",
    "cw.head()"
   ]
  },
  {
   "cell_type": "markdown",
   "metadata": {},
   "source": [
    "For better modeling, the categorical variables \"home_ownership\", \"verification_status\", and \"application_type\" were converted into dummy variables. After that, the dataset would have 22 independent variables :\"loan_amnt\", \"term\", \"installment',\"emp_length\", \"dti\", \"earliest_cr_line\", \"open_acc\" ,  \"pub_rec\", \"revol_util\", \"total_acc\", \"mort_acc\", \"pub_rec_bankruptcies\", \"log_annual_inc\",\"fico_score\", \"log_revol_bal\", \"RENT\", \"MORTGAGE\", \"OWN\", \"Verified\", \"Not Verified\", \"Individual\",and \"Joint App.\"\n"
   ]
  },
  {
   "cell_type": "markdown",
   "metadata": {},
   "source": [
    "# Methodology"
   ]
  },
  {
   "cell_type": "markdown",
   "metadata": {},
   "source": [
    "## SMOTE for balancing data"
   ]
  },
  {
   "cell_type": "code",
   "execution_count": 79,
   "metadata": {},
   "outputs": [
    {
     "name": "stdout",
     "output_type": "stream",
     "text": [
      "Number of repay in original data 5759\n",
      "Number of not repay in original data 1043\n"
     ]
    }
   ],
   "source": [
    "X = cw.loc[:, cw.columns != 'charged_off']\n",
    "y = cw.loc[:, cw.columns == 'charged_off']\n",
    "print(\"Number of repayment in original data\",len(y[y['charged_off']==0]))\n",
    "print(\"Number of charge off in original data\",len(y[y['charged_off']==1]))"
   ]
  },
  {
   "cell_type": "code",
   "execution_count": 82,
   "metadata": {},
   "outputs": [
    {
     "data": {
      "image/png": "[encoded data removed]",
      "text/plain": [
       "<Figure size 432x288 with 1 Axes>"
      ]
     },
     "metadata": {},
     "output_type": "display_data"
    },
    {
     "data": {
      "text/plain": [
       "<Figure size 432x288 with 0 Axes>"
      ]
     },
     "metadata": {},
     "output_type": "display_data"
    }
   ],
   "source": [
    "splot=sn.countplot(x='charged_off',data=cw,palette='hls')\n",
    "for p in splot.patches:\n",
    "    splot.annotate(format(p.get_height(), '.1f'), (p.get_x() + p.get_width() / 2., p.get_height()), ha = 'center', va = 'center', xytext = (0, 10), textcoords = 'offset points')\n",
    "plt.show()\n",
    "plt.savefig('count_balance')"
   ]
  },
  {
   "cell_type": "markdown",
   "metadata": {},
   "source": [
    "Firstly, as the number of repay in original data 5759 and the number of not repay is 1043, the original dataset has a severe class imbalance. In this case, the SMOTE(Synthetic Minority Oversampling Technique) was used to oversample this imbalanced classification dataset. Specifically, based on the random instances from the minority class of the original dataset, the SMOTE algorithm creates synthetic data points to balance a dataset(Ma & Fan,2017).\n"
   ]
  },
  {
   "cell_type": "code",
   "execution_count": 83,
   "metadata": {},
   "outputs": [],
   "source": [
    "X = cw.loc[:, cw.columns != 'charged_off']\n",
    "y = cw.loc[:, cw.columns == 'charged_off']\n",
    "from imblearn.over_sampling import SMOTE\n",
    "\n",
    "ba = SMOTE(random_state=0)\n",
    "X_train, X_test, y_train, y_test = train_test_split(X, y, test_size=0.3, random_state=0)\n",
    "columns = X_train.columns"
   ]
  },
  {
   "cell_type": "code",
   "execution_count": 84,
   "metadata": {},
   "outputs": [
    {
     "name": "stdout",
     "output_type": "stream",
     "text": [
      "length of oversampled data is  8042\n",
      "Number of repayment in oversampled data 4021\n",
      "Number of charge-off 4021\n"
     ]
    }
   ],
   "source": [
    "ba_data_X,ba_data_y=ba.fit_sample(X_train, y_train)\n",
    "ba_data_X = pd.DataFrame(data=ba_data_X,columns=columns )\n",
    "ba_data_y= pd.DataFrame(data=ba_data_y,columns=['charged_off'])\n",
    "\n",
    "print(\"length of oversampled data is \",len(os_data_X))\n",
    "print(\"Number of repayment in oversampled data\",len(os_data_y[os_data_y['charged_off']==0]))\n",
    "print(\"Number of charge-off\",len(os_data_y[os_data_y['charged_off']==1]))"
   ]
  },
  {
   "cell_type": "markdown",
   "metadata": {},
   "source": [
    "The SMOTE algorithm is only used to balance the training set, because we want to make sure that no data in the test set involves creating synthetic data points. In other words, the training set and the test set are completely independent of each other. After applying SMOTE algorithm, we get a completely balanced dataset which contains 4021 repayments and 4021 charge-offs."
   ]
  },
  {
   "cell_type": "markdown",
   "metadata": {},
   "source": [
    "## Recursive Feature Elimination (RFE) for selecting features\n"
   ]
  },
  {
   "cell_type": "markdown",
   "metadata": {},
   "source": [
    "Recursive Feature Elimination (RFE) is a feature selection algorithm whose purpose is to retain more significant features and eliminate secondary features by repeatedly building models based on the balanced training data. In this study, RFE was used to select features in logistic regression Classifier, classification tree classifier, and random forest classifier. Moreover, all 22 features are ranked according their importance, and the selected features are assigned rank 1 which are saved for model fitting in next step.\n",
    "\n"
   ]
  },
  {
   "cell_type": "markdown",
   "metadata": {},
   "source": [
    "## Model Fitting (Logistic Regression, Classification Tree, and Random Forest)"
   ]
  },
  {
   "cell_type": "markdown",
   "metadata": {},
   "source": [
    "Based on the selected features by RFE, three unsupervised learning algorithms (Logistic Regression, Classification Tree, and Random Forest) are used to fit the data and predict the target variable \"charge_off.\" "
   ]
  },
  {
   "cell_type": "markdown",
   "metadata": {},
   "source": [
    "## AUC-ROC curve for model performance"
   ]
  },
  {
   "cell_type": "markdown",
   "metadata": {},
   "source": [
    "Finally, I draw ROC curve (Receiver Operating Characteristic curve) for each classification model and compute the corresponding AUC(Area under the ROC Curve) to compare the prediction capabilities of the three models."
   ]
  },
  {
   "cell_type": "markdown",
   "metadata": {},
   "source": [
    "# Results"
   ]
  },
  {
   "cell_type": "markdown",
   "metadata": {},
   "source": [
    "## Logistic Regression"
   ]
  },
  {
   "cell_type": "code",
   "execution_count": 134,
   "metadata": {},
   "outputs": [
    {
     "name": "stderr",
     "output_type": "stream",
     "text": [
      "/Users/xueerzheng/opt/anaconda3/lib/python3.8/site-packages/sklearn/linear_model/_logistic.py:762: ConvergenceWarning: lbfgs failed to converge (status=1):\n",
      "STOP: TOTAL NO. of ITERATIONS REACHED LIMIT.\n",
      "\n",
      "Increase the number of iterations (max_iter) or scale the data as shown in:\n",
      "    https://scikit-learn.org/stable/modules/preprocessing.html\n",
      "Please also refer to the documentation for alternative solver options:\n",
      "    https://scikit-learn.org/stable/modules/linear_model.html#logistic-regression\n",
      "  n_iter_i = _check_optimize_result(\n",
      "/Users/xueerzheng/opt/anaconda3/lib/python3.8/site-packages/sklearn/linear_model/_logistic.py:762: ConvergenceWarning: lbfgs failed to converge (status=1):\n",
      "STOP: TOTAL NO. of ITERATIONS REACHED LIMIT.\n",
      "\n",
      "Increase the number of iterations (max_iter) or scale the data as shown in:\n",
      "    https://scikit-learn.org/stable/modules/preprocessing.html\n",
      "Please also refer to the documentation for alternative solver options:\n",
      "    https://scikit-learn.org/stable/modules/linear_model.html#logistic-regression\n",
      "  n_iter_i = _check_optimize_result(\n",
      "/Users/xueerzheng/opt/anaconda3/lib/python3.8/site-packages/sklearn/linear_model/_logistic.py:762: ConvergenceWarning: lbfgs failed to converge (status=1):\n",
      "STOP: TOTAL NO. of ITERATIONS REACHED LIMIT.\n",
      "\n",
      "Increase the number of iterations (max_iter) or scale the data as shown in:\n",
      "    https://scikit-learn.org/stable/modules/preprocessing.html\n",
      "Please also refer to the documentation for alternative solver options:\n",
      "    https://scikit-learn.org/stable/modules/linear_model.html#logistic-regression\n",
      "  n_iter_i = _check_optimize_result(\n",
      "/Users/xueerzheng/opt/anaconda3/lib/python3.8/site-packages/sklearn/linear_model/_logistic.py:762: ConvergenceWarning: lbfgs failed to converge (status=1):\n",
      "STOP: TOTAL NO. of ITERATIONS REACHED LIMIT.\n",
      "\n",
      "Increase the number of iterations (max_iter) or scale the data as shown in:\n",
      "    https://scikit-learn.org/stable/modules/preprocessing.html\n",
      "Please also refer to the documentation for alternative solver options:\n",
      "    https://scikit-learn.org/stable/modules/linear_model.html#logistic-regression\n",
      "  n_iter_i = _check_optimize_result(\n",
      "/Users/xueerzheng/opt/anaconda3/lib/python3.8/site-packages/sklearn/linear_model/_logistic.py:762: ConvergenceWarning: lbfgs failed to converge (status=1):\n",
      "STOP: TOTAL NO. of ITERATIONS REACHED LIMIT.\n",
      "\n",
      "Increase the number of iterations (max_iter) or scale the data as shown in:\n",
      "    https://scikit-learn.org/stable/modules/preprocessing.html\n",
      "Please also refer to the documentation for alternative solver options:\n",
      "    https://scikit-learn.org/stable/modules/linear_model.html#logistic-regression\n",
      "  n_iter_i = _check_optimize_result(\n",
      "/Users/xueerzheng/opt/anaconda3/lib/python3.8/site-packages/sklearn/linear_model/_logistic.py:762: ConvergenceWarning: lbfgs failed to converge (status=1):\n",
      "STOP: TOTAL NO. of ITERATIONS REACHED LIMIT.\n",
      "\n",
      "Increase the number of iterations (max_iter) or scale the data as shown in:\n",
      "    https://scikit-learn.org/stable/modules/preprocessing.html\n",
      "Please also refer to the documentation for alternative solver options:\n",
      "    https://scikit-learn.org/stable/modules/linear_model.html#logistic-regression\n",
      "  n_iter_i = _check_optimize_result(\n",
      "/Users/xueerzheng/opt/anaconda3/lib/python3.8/site-packages/sklearn/linear_model/_logistic.py:762: ConvergenceWarning: lbfgs failed to converge (status=1):\n",
      "STOP: TOTAL NO. of ITERATIONS REACHED LIMIT.\n",
      "\n",
      "Increase the number of iterations (max_iter) or scale the data as shown in:\n",
      "    https://scikit-learn.org/stable/modules/preprocessing.html\n",
      "Please also refer to the documentation for alternative solver options:\n",
      "    https://scikit-learn.org/stable/modules/linear_model.html#logistic-regression\n",
      "  n_iter_i = _check_optimize_result(\n",
      "/Users/xueerzheng/opt/anaconda3/lib/python3.8/site-packages/sklearn/linear_model/_logistic.py:762: ConvergenceWarning: lbfgs failed to converge (status=1):\n",
      "STOP: TOTAL NO. of ITERATIONS REACHED LIMIT.\n",
      "\n",
      "Increase the number of iterations (max_iter) or scale the data as shown in:\n",
      "    https://scikit-learn.org/stable/modules/preprocessing.html\n",
      "Please also refer to the documentation for alternative solver options:\n",
      "    https://scikit-learn.org/stable/modules/linear_model.html#logistic-regression\n",
      "  n_iter_i = _check_optimize_result(\n",
      "/Users/xueerzheng/opt/anaconda3/lib/python3.8/site-packages/sklearn/linear_model/_logistic.py:762: ConvergenceWarning: lbfgs failed to converge (status=1):\n",
      "STOP: TOTAL NO. of ITERATIONS REACHED LIMIT.\n",
      "\n",
      "Increase the number of iterations (max_iter) or scale the data as shown in:\n",
      "    https://scikit-learn.org/stable/modules/preprocessing.html\n",
      "Please also refer to the documentation for alternative solver options:\n",
      "    https://scikit-learn.org/stable/modules/linear_model.html#logistic-regression\n",
      "  n_iter_i = _check_optimize_result(\n"
     ]
    },
    {
     "name": "stdout",
     "output_type": "stream",
     "text": [
      "[False  True False False False False  True False False False  True  True\n",
      "  True False  True  True  True  True  True  True False False]\n",
      "[11  1  9  4  8  6  1  2  7  3  1  1  1  5  1  1  1  1  1  1 10 12]\n"
     ]
    },
    {
     "name": "stderr",
     "output_type": "stream",
     "text": [
      "/Users/xueerzheng/opt/anaconda3/lib/python3.8/site-packages/sklearn/linear_model/_logistic.py:762: ConvergenceWarning: lbfgs failed to converge (status=1):\n",
      "STOP: TOTAL NO. of ITERATIONS REACHED LIMIT.\n",
      "\n",
      "Increase the number of iterations (max_iter) or scale the data as shown in:\n",
      "    https://scikit-learn.org/stable/modules/preprocessing.html\n",
      "Please also refer to the documentation for alternative solver options:\n",
      "    https://scikit-learn.org/stable/modules/linear_model.html#logistic-regression\n",
      "  n_iter_i = _check_optimize_result(\n",
      "/Users/xueerzheng/opt/anaconda3/lib/python3.8/site-packages/sklearn/linear_model/_logistic.py:762: ConvergenceWarning: lbfgs failed to converge (status=1):\n",
      "STOP: TOTAL NO. of ITERATIONS REACHED LIMIT.\n",
      "\n",
      "Increase the number of iterations (max_iter) or scale the data as shown in:\n",
      "    https://scikit-learn.org/stable/modules/preprocessing.html\n",
      "Please also refer to the documentation for alternative solver options:\n",
      "    https://scikit-learn.org/stable/modules/linear_model.html#logistic-regression\n",
      "  n_iter_i = _check_optimize_result(\n",
      "/Users/xueerzheng/opt/anaconda3/lib/python3.8/site-packages/sklearn/linear_model/_logistic.py:762: ConvergenceWarning: lbfgs failed to converge (status=1):\n",
      "STOP: TOTAL NO. of ITERATIONS REACHED LIMIT.\n",
      "\n",
      "Increase the number of iterations (max_iter) or scale the data as shown in:\n",
      "    https://scikit-learn.org/stable/modules/preprocessing.html\n",
      "Please also refer to the documentation for alternative solver options:\n",
      "    https://scikit-learn.org/stable/modules/linear_model.html#logistic-regression\n",
      "  n_iter_i = _check_optimize_result(\n"
     ]
    }
   ],
   "source": [
    "final_var=cw.columns.values.tolist()\n",
    "y=['charged_off']\n",
    "X=[i for i in final_var if i not in y]\n",
    "\n",
    "from sklearn.feature_selection import RFE\n",
    "from sklearn.linear_model import LogisticRegression\n",
    "\n",
    "lg = LogisticRegression()\n",
    "\n",
    "rfe_lg = RFE(lg,step=1)\n",
    "rfe_lg = rfe_lg.fit(ba_data_X, ba_data_y.values.ravel())\n",
    "print(rfe_lg.support_)\n",
    "print(rfe_lg.ranking_)"
   ]
  },
  {
   "cell_type": "markdown",
   "metadata": {},
   "source": [
    "The features selected by RFE are :\"term\", \"open_acc\", \"mort_acc\", \"pub_rec_bankruptcies\", \"log_annual_inc\", \"log_revol_bal\", \"RENT\", \"MORTGAGE\", \"OWN\", \"Verified\", and \"Not Verified.\" The logistic regression classifier built on those features has accuracy score equal to 0.81728."
   ]
  },
  {
   "cell_type": "code",
   "execution_count": 135,
   "metadata": {},
   "outputs": [
    {
     "name": "stdout",
     "output_type": "stream",
     "text": [
      "Accuracy of Logistic Regression classifier on test set: 0.81728\n"
     ]
    },
    {
     "name": "stderr",
     "output_type": "stream",
     "text": [
      "/Users/xueerzheng/opt/anaconda3/lib/python3.8/site-packages/sklearn/linear_model/_logistic.py:762: ConvergenceWarning: lbfgs failed to converge (status=1):\n",
      "STOP: TOTAL NO. of ITERATIONS REACHED LIMIT.\n",
      "\n",
      "Increase the number of iterations (max_iter) or scale the data as shown in:\n",
      "    https://scikit-learn.org/stable/modules/preprocessing.html\n",
      "Please also refer to the documentation for alternative solver options:\n",
      "    https://scikit-learn.org/stable/modules/linear_model.html#logistic-regression\n",
      "  n_iter_i = _check_optimize_result(\n"
     ]
    }
   ],
   "source": [
    "lg_var=['term','open_acc','mort_acc','pub_rec_bankruptcies', 'log_annual_inc',\n",
    "         'log_revol_bal','RENT', 'MORTGAGE', 'OWN', 'Verified', 'Not Verified']\n",
    "\n",
    "X=ba_data_X[lg_var]\n",
    "y=ba_data_y['charged_off']\n",
    "\n",
    "from sklearn.linear_model import LogisticRegression\n",
    "from sklearn import metrics\n",
    "\n",
    "X_train, X_test, y_train, y_test = train_test_split(X, y, test_size=0.2, random_state=0)\n",
    "lg = LogisticRegression()\n",
    "\n",
    "lg.fit(X_train, y_train)\n",
    "\n",
    "y_pred_lg=lg.predict(X_test)\n",
    "\n",
    "print('Accuracy of Logistic Regression classifier on test set: {:.5f}'.format(lg.score(X_test, y_test)))"
   ]
  },
  {
   "cell_type": "code",
   "execution_count": 136,
   "metadata": {},
   "outputs": [
    {
     "name": "stdout",
     "output_type": "stream",
     "text": [
      "[[755  67]\n",
      " [227 560]]\n",
      "              precision    recall  f1-score   support\n",
      "\n",
      "           0       0.77      0.92      0.84       822\n",
      "           1       0.89      0.71      0.79       787\n",
      "\n",
      "    accuracy                           0.82      1609\n",
      "   macro avg       0.83      0.82      0.81      1609\n",
      "weighted avg       0.83      0.82      0.82      1609\n",
      "\n"
     ]
    }
   ],
   "source": [
    "print(confusion_matrix(y_test, y_pred_lg))\n",
    "print(classification_report(y_test, y_pred_lg))"
   ]
  },
  {
   "cell_type": "code",
   "execution_count": 137,
   "metadata": {},
   "outputs": [
    {
     "data": {
      "image/png": "[encoded data removed]",
      "text/plain": [
       "<Figure size 432x288 with 1 Axes>"
      ]
     },
     "metadata": {},
     "output_type": "display_data"
    }
   ],
   "source": [
    "from sklearn.metrics import roc_auc_score\n",
    "from sklearn.metrics import roc_curve\n",
    "lg_roc_auc = roc_auc_score(y_test, lg.predict(X_test))\n",
    "fpr, tpr, thresholds = roc_curve(y_test, lg.predict_proba(X_test)[:,1])\n",
    "plt.figure()\n",
    "plt.plot(fpr, tpr, label='Logistic Regression Classifier (area = %0.2f)' % lg_roc_auc)\n",
    "plt.plot([0, 1], [0, 1],'r--')\n",
    "plt.xlim([0.0, 1.0])\n",
    "plt.ylim([0.0, 1.05])\n",
    "plt.xlabel('False Positive Rate')\n",
    "plt.ylabel('True Positive Rate')\n",
    "plt.title('Receiver operating characteristic')\n",
    "plt.legend(loc=\"lower right\")\n",
    "plt.savefig('LG_ROC')\n",
    "plt.show()"
   ]
  },
  {
   "cell_type": "code",
   "execution_count": 140,
   "metadata": {},
   "outputs": [
    {
     "name": "stdout",
     "output_type": "stream",
     "text": [
      "Feature: 0, Score: 0.03620\n",
      "Feature: 1, Score: 0.02094\n",
      "Feature: 2, Score: -0.06221\n",
      "Feature: 3, Score: -0.34203\n",
      "Feature: 4, Score: -2.29020\n",
      "Feature: 5, Score: 0.35387\n",
      "Feature: 6, Score: 4.90366\n",
      "Feature: 7, Score: 4.04169\n",
      "Feature: 8, Score: 4.14910\n",
      "Feature: 9, Score: 4.60800\n",
      "Feature: 10, Score: 3.85662\n"
     ]
    },
    {
     "data": {
      "image/png": "[encoded data removed]",
      "text/plain": [
       "<Figure size 432x288 with 1 Axes>"
      ]
     },
     "metadata": {},
     "output_type": "display_data"
    }
   ],
   "source": [
    "from matplotlib import pyplot\n",
    "importance = lg.coef_[0]\n",
    "# summarize feature importance\n",
    "for i,v in enumerate(importance):\n",
    "    print('Feature: %0d, Score: %.5f' % (i,v))\n",
    "\n",
    "# plot feature importance\n",
    "pyplot.bar([x for x in range(len(importance))], importance)\n",
    "pyplot.show()"
   ]
  },
  {
   "cell_type": "code",
   "execution_count": 153,
   "metadata": {},
   "outputs": [
    {
     "data": {
      "image/png": "[encoded data removed]",
      "text/plain": [
       "<Figure size 432x288 with 1 Axes>"
      ]
     },
     "metadata": {},
     "output_type": "display_data"
    },
    {
     "name": "stdout",
     "output_type": "stream",
     "text": [
      "                 feature  importance\n",
      "4         log_annual_inc   -2.290199\n",
      "3   pub_rec_bankruptcies   -0.342027\n",
      "2               mort_acc   -0.062209\n",
      "1               open_acc    0.020944\n",
      "0                   term    0.036197\n",
      "5          log_revol_bal    0.353874\n",
      "10          Not Verified    3.856623\n",
      "7               MORTGAGE    4.041693\n",
      "8                    OWN    4.149103\n",
      "9               Verified    4.608002\n",
      "6                   RENT    4.903659\n"
     ]
    }
   ],
   "source": [
    "import math\n",
    "\n",
    "feature_importance_lg = pd.DataFrame(lg_var, columns = [\"feature\"])\n",
    "feature_importance_lg[\"importance\"] = lg.coef_[0]\n",
    "feature_importance_lg = feature_importance_lg.sort_values(by = [\"importance\"], ascending=True)\n",
    " \n",
    "from sklearn.linear_model import LogisticRegression\n",
    "ax = feature_importance_lg.plot.barh(x='feature', y='importance')\n",
    "plt.show()\n",
    "\n",
    "print(feature_importance_lg)"
   ]
  },
  {
   "cell_type": "markdown",
   "metadata": {},
   "source": [
    "## Decision Tree"
   ]
  },
  {
   "cell_type": "code",
   "execution_count": 115,
   "metadata": {},
   "outputs": [],
   "source": [
    "from sklearn.feature_selection import RFE\n",
    "from sklearn.neighbors import KNeighborsClassifier\n",
    "from sklearn.metrics import classification_report, confusion_matrix\n",
    "from sklearn import svm\n",
    "from sklearn.tree import DecisionTreeClassifier"
   ]
  },
  {
   "cell_type": "code",
   "execution_count": 116,
   "metadata": {},
   "outputs": [
    {
     "name": "stdout",
     "output_type": "stream",
     "text": [
      "[ True False  True False  True False False False  True False False False\n",
      "  True  True  True  True  True  True False  True False False]\n",
      "[ 1  7  1  3  1  5  6 10  1  4  8  9  1  1  1  1  1  1  2  1 11 12]\n"
     ]
    }
   ],
   "source": [
    "dt=DecisionTreeClassifier()\n",
    "rfe_dt = RFE(dt,step=1)\n",
    "rfe_dt = rfe_dt.fit(os_data_X, ba_data_y.values.ravel())\n",
    "print(rfe_dt.support_)\n",
    "print(rfe_dt.ranking_)"
   ]
  },
  {
   "cell_type": "markdown",
   "metadata": {},
   "source": [
    "The features selected by RFE are :\"loan_amnt\", \"installment\", \"emp_length\", \"dti\", \"revol_util\", \"log_annual_inc\", \"fico_score\", \"log_revol_bal\", \"RENT\", \"MORTGAGE\", and \"OWN.\""
   ]
  },
  {
   "cell_type": "code",
   "execution_count": 130,
   "metadata": {},
   "outputs": [
    {
     "name": "stdout",
     "output_type": "stream",
     "text": [
      "Accuracy of Decision Tree classifier on test set: 0.81268\n"
     ]
    }
   ],
   "source": [
    "dt_var=['loan_amnt','installment', 'emp_length', 'dti','revol_util',\n",
    "        'log_annual_inc', 'fico_score','log_revol_bal', 'RENT', 'MORTGAGE', 'OWN']\n",
    "\n",
    "X=ba_data_X[dt_var]\n",
    "y=ba_data_y['charged_off']\n",
    "\n",
    "from sklearn.tree import DecisionTreeClassifier\n",
    "\n",
    "X_train, X_test, y_train, y_test = train_test_split(X, y, test_size=0.3, random_state=0)\n",
    "\n",
    "dt=DecisionTreeClassifier()\n",
    "dt=dt.fit(X_train, y_train.values.ravel())\n",
    "y_pred_dt = dt.predict(X_test)\n",
    "\n",
    "print('Accuracy of Decision Tree classifier on test set: {:.5f}'.format(dt.score(X_test, y_test)))"
   ]
  },
  {
   "cell_type": "code",
   "execution_count": 131,
   "metadata": {},
   "outputs": [
    {
     "name": "stdout",
     "output_type": "stream",
     "text": [
      "[[ 957  242]\n",
      " [ 210 1004]]\n",
      "              precision    recall  f1-score   support\n",
      "\n",
      "           0       0.82      0.80      0.81      1199\n",
      "           1       0.81      0.83      0.82      1214\n",
      "\n",
      "    accuracy                           0.81      2413\n",
      "   macro avg       0.81      0.81      0.81      2413\n",
      "weighted avg       0.81      0.81      0.81      2413\n",
      "\n"
     ]
    },
    {
     "data": {
      "text/plain": [
       "MORTGAGE          0.144031\n",
       "RENT              0.128979\n",
       "fico_score        0.126495\n",
       "installment       0.093941\n",
       "log_annual_inc    0.082209\n",
       "dti               0.078202\n",
       "loan_amnt         0.073721\n",
       "log_revol_bal     0.072407\n",
       "OWN               0.068034\n",
       "revol_util        0.067143\n",
       "emp_length        0.064839\n",
       "dtype: float64"
      ]
     },
     "execution_count": 131,
     "metadata": {},
     "output_type": "execute_result"
    }
   ],
   "source": [
    "print(confusion_matrix(y_test, y_pred_dt))\n",
    "print(classification_report(y_test, y_pred_dt))\n",
    "dt_feature= pd.Series(dt.feature_importances_,index=X.columns).sort_values(ascending=False)\n",
    "dt_feature"
   ]
  },
  {
   "cell_type": "code",
   "execution_count": 151,
   "metadata": {},
   "outputs": [
    {
     "data": {
      "image/png": "[encoded data removed]",
      "text/plain": [
       "<Figure size 432x288 with 1 Axes>"
      ]
     },
     "metadata": {},
     "output_type": "display_data"
    }
   ],
   "source": [
    "import math\n",
    "\n",
    "feature_importance_dt = pd.DataFrame(dt_var, columns = [\"feature\"])\n",
    "feature_importance_dt[\"importance\"] = dt.feature_importances_\n",
    "feature_importance_dt = feature_importance_dt.sort_values(by = [\"importance\"], ascending=True)\n",
    " \n",
    "from sklearn.linear_model import LogisticRegression\n",
    "ax = feature_importance_dt.plot.barh(x='feature', y='importance')\n",
    "plt.show()"
   ]
  },
  {
   "cell_type": "code",
   "execution_count": 132,
   "metadata": {},
   "outputs": [
    {
     "data": {
      "image/png": "[encoded data removed]",
      "text/plain": [
       "<Figure size 432x288 with 1 Axes>"
      ]
     },
     "metadata": {},
     "output_type": "display_data"
    }
   ],
   "source": [
    "dt_roc_auc = roc_auc_score(y_test, dt.predict(X_test))\n",
    "fpr, tpr, thresholds = roc_curve(y_test, dt.predict_proba(X_test)[:,1])\n",
    "plt.figure()\n",
    "plt.plot(fpr, tpr, label='Decision Tree Classifier (area = %0.2f)' % dt_roc_auc)\n",
    "plt.plot([0, 1], [0, 1],'r--')\n",
    "plt.xlim([0.0, 1.0])\n",
    "plt.ylim([0.0, 1.05])\n",
    "plt.xlabel('False Positive Rate')\n",
    "plt.ylabel('True Positive Rate')\n",
    "plt.title('Receiver operating characteristic')\n",
    "plt.legend(loc=\"lower right\")\n",
    "plt.savefig('DT_ROC')\n",
    "plt.show()"
   ]
  },
  {
   "cell_type": "markdown",
   "metadata": {},
   "source": [
    "## Random Forest"
   ]
  },
  {
   "cell_type": "code",
   "execution_count": 120,
   "metadata": {},
   "outputs": [
    {
     "name": "stdout",
     "output_type": "stream",
     "text": [
      "[ True False  True  True  True False False False  True False  True False\n",
      "  True  True  True  True False False False  True False False]\n",
      "[ 1  8  1  1  1  4  6 10  1  3  1  9  1  1  1  1  5  7  2  1 12 11]\n",
      "Index(['loan_amnt', 'term', 'installment', 'emp_length', 'dti',\n",
      "       'earliest_cr_line', 'open_acc', 'pub_rec', 'revol_util', 'total_acc',\n",
      "       'mort_acc', 'pub_rec_bankruptcies', 'log_annual_inc', 'fico_score',\n",
      "       'log_revol_bal', 'RENT', 'MORTGAGE', 'OWN', 'Verified', 'Not Verified',\n",
      "       'Individual', 'Joint App'],\n",
      "      dtype='object')\n"
     ]
    }
   ],
   "source": [
    "from sklearn.ensemble import RandomForestClassifier\n",
    "rf=RandomForestClassifier()\n",
    "rfe_rf = RFE(rf,step=1)\n",
    "rfe_rf = rfe_rf.fit(ba_data_X, ba_data_y.values.ravel())\n",
    "print(rfe_rf.support_)\n",
    "print(rfe_rf.ranking_)\n",
    "print(ba_data_X.columns)"
   ]
  },
  {
   "cell_type": "markdown",
   "metadata": {},
   "source": [
    "The features selected by RFE are : \"loan_amnt\", \"installment\", \"emp_length\", \"dti\", \"revol_util\", \"mort_acc\", \"log_annual_inc\", \"fico_score\", \"log_revol_bal\", \"RENT\", and \"Not Verified.\"\n",
    "       "
   ]
  },
  {
   "cell_type": "code",
   "execution_count": 121,
   "metadata": {},
   "outputs": [
    {
     "name": "stdout",
     "output_type": "stream",
     "text": [
      "Accuracy of Random Forest classifier on test set: 0.88937\n"
     ]
    }
   ],
   "source": [
    "rf_var=['loan_amnt', 'installment', 'emp_length', 'dti', 'revol_util', 'mort_acc',\n",
    "        'log_annual_inc', 'fico_score','log_revol_bal', 'RENT', 'Not Verified']\n",
    "\n",
    "X=ba_data_X[rf_var]\n",
    "y=ba_data_y['charged_off']\n",
    "\n",
    "from sklearn.tree import DecisionTreeClassifier\n",
    "\n",
    "X_train, X_test, y_train, y_test = train_test_split(X, y, test_size=0.2, random_state=0)\n",
    "\n",
    "rf=RandomForestClassifier()\n",
    "rf=rf.fit(X_train, y_train.values.ravel())\n",
    "y_pred_rf = rf.predict(X_test)\n",
    "print('Accuracy of Random Forest classifier on test set: {:.5f}'.format(rf.score(X_test, y_test)))"
   ]
  },
  {
   "cell_type": "code",
   "execution_count": 122,
   "metadata": {},
   "outputs": [
    {
     "name": "stdout",
     "output_type": "stream",
     "text": [
      "[[752  70]\n",
      " [108 679]]\n",
      "              precision    recall  f1-score   support\n",
      "\n",
      "           0       0.87      0.91      0.89       822\n",
      "           1       0.91      0.86      0.88       787\n",
      "\n",
      "    accuracy                           0.89      1609\n",
      "   macro avg       0.89      0.89      0.89      1609\n",
      "weighted avg       0.89      0.89      0.89      1609\n",
      "\n"
     ]
    },
    {
     "data": {
      "text/plain": [
       "fico_score        0.123040\n",
       "mort_acc          0.112440\n",
       "revol_util        0.106444\n",
       "installment       0.096595\n",
       "RENT              0.096591\n",
       "emp_length        0.095475\n",
       "dti               0.092414\n",
       "log_annual_inc    0.091387\n",
       "loan_amnt         0.089247\n",
       "log_revol_bal     0.082708\n",
       "Not Verified      0.013657\n",
       "dtype: float64"
      ]
     },
     "execution_count": 122,
     "metadata": {},
     "output_type": "execute_result"
    }
   ],
   "source": [
    "print(confusion_matrix(y_test, y_pred_rf))\n",
    "print(classification_report(y_test, y_pred_rf))\n",
    "rf_feature= pd.Series(rf.feature_importances_,index=X.columns).sort_values(ascending=False)\n",
    "rf_feature"
   ]
  },
  {
   "cell_type": "code",
   "execution_count": 150,
   "metadata": {},
   "outputs": [
    {
     "data": {
      "image/png": "[encoded data removed]",
      "text/plain": [
       "<Figure size 432x288 with 1 Axes>"
      ]
     },
     "metadata": {},
     "output_type": "display_data"
    }
   ],
   "source": [
    "import math\n",
    "\n",
    "feature_importance_rf = pd.DataFrame(rf_var, columns = [\"feature\"])\n",
    "feature_importance_rf[\"importance\"] = rf.feature_importances_\n",
    "feature_importance_rf = feature_importance_rf.sort_values(by = [\"importance\"], ascending=True)\n",
    " \n",
    "from sklearn.linear_model import LogisticRegression\n",
    "ax = feature_importance_rf.plot.barh(x='feature', y='importance')\n",
    "plt.show()"
   ]
  },
  {
   "cell_type": "code",
   "execution_count": 128,
   "metadata": {},
   "outputs": [
    {
     "data": {
      "image/png": "[encoded data removed]",
      "text/plain": [
       "<Figure size 432x288 with 1 Axes>"
      ]
     },
     "metadata": {},
     "output_type": "display_data"
    }
   ],
   "source": [
    "from sklearn.metrics import roc_auc_score\n",
    "from sklearn.metrics import roc_curve\n",
    "rf_roc_auc = roc_auc_score(y_test, rf.predict(X_test))\n",
    "fpr, tpr, thresholds = roc_curve(y_test, rf.predict_proba(X_test)[:,1])\n",
    "plt.figure()\n",
    "plt.plot(fpr, tpr, label='Random Forest Classifier (area = %0.2f)' % rf_roc_auc)\n",
    "plt.plot([0, 1], [0, 1],'r--')\n",
    "plt.xlim([0.0, 1.0])\n",
    "plt.ylim([0.0, 1.05])\n",
    "plt.xlabel('False Positive Rate')\n",
    "plt.ylabel('True Positive Rate')\n",
    "plt.title('Receiver operating characteristic')\n",
    "plt.legend(loc=\"lower right\")\n",
    "plt.savefig('RF_ROC')\n",
    "plt.show()"
   ]
  },
  {
   "cell_type": "code",
   "execution_count": null,
   "metadata": {},
   "outputs": [],
   "source": []
  },
  {
   "cell_type": "markdown",
   "metadata": {},
   "source": [
    "# Conclusion"
   ]
  },
  {
   "cell_type": "markdown",
   "metadata": {},
   "source": [
    "The goal of this study is to find the best model that can predict whether a customer will default on their loans. By comparing the AUC-OUC curves, the Random Forest Classifier has the highest AUC (=0.88881) and has the closest OUC curve to the upper left corner. Moreover, by comparing the classification reports of those three classifiers, the random forest classifier has the highest precision score for both cases (\"repayment\"=0.87, and \"charge off\"=0.91), and it also has the highest recall score for both cases (\"repayment\"=0.91, and \"charge off\"=0.86). Overall, the random forest classifier has the highest accuracy of prediction (=0.89). \n",
    "\n",
    "Due to the highest AUC, highest accuracy, highest recall and highest accuracy of the random forest classifier, we can conclude that the random forest classifier has the best predictive performance compared to the logistic regression classifier and the classification tree classifier. \n"
   ]
  },
  {
   "cell_type": "code",
   "execution_count": null,
   "metadata": {},
   "outputs": [],
   "source": []
  }
 ],
 "metadata": {
  "kernelspec": {
   "display_name": "Python 3",
   "language": "python",
   "name": "python3"
  },
  "language_info": {
   "codemirror_mode": {
    "name": "ipython",
    "version": 3
   },
   "file_extension": ".py",
   "mimetype": "text/x-python",
   "name": "python",
   "nbconvert_exporter": "python",
   "pygments_lexer": "ipython3",
   "version": "3.8.3"
  },
  "toc": {
   "base_numbering": 1,
   "nav_menu": {},
   "number_sections": true,
   "sideBar": true,
   "skip_h1_title": false,
   "title_cell": "Table of Contents",
   "title_sidebar": "Contents",
   "toc_cell": false,
   "toc_position": {},
   "toc_section_display": true,
   "toc_window_display": false
  },
  "varInspector": {
   "cols": {
    "lenName": 16,
    "lenType": 16,
    "lenVar": 40
   },
   "kernels_config": {
    "python": {
     "delete_cmd_postfix": "",
     "delete_cmd_prefix": "del ",
     "library": "var_list.py",
     "varRefreshCmd": "print(var_dic_list())"
    },
    "r": {
     "delete_cmd_postfix": ") ",
     "delete_cmd_prefix": "rm(",
     "library": "var_list.r",
     "varRefreshCmd": "cat(var_dic_list()) "
    }
   },
   "types_to_exclude": [
    "module",
    "function",
    "builtin_function_or_method",
    "instance",
    "_Feature"
   ],
   "window_display": false
  }
 },
 "nbformat": 4,
 "nbformat_minor": 4
}
